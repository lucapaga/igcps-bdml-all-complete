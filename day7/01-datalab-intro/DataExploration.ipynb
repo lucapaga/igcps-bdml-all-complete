{
 "cells": [
  {
   "cell_type": "markdown",
   "metadata": {
    "deletable": true,
    "editable": true
   },
   "source": [
    "# Data Exploration"
   ]
  },
  {
   "cell_type": "code",
   "execution_count": null,
   "metadata": {
    "collapsed": true
   },
   "outputs": [],
   "source": [
    "import google.datalab.bigquery as bq\n",
    "import pandas as pd"
   ]
  },
  {
   "cell_type": "markdown",
   "metadata": {
    "deletable": true,
    "editable": true
   },
   "source": [
    "## Perform queries to BigQuery\n",
    "You can use datalab bigquery connector to make queries from python and collect the results in a __Pandas Dataframe__:\n",
    "run the following cell and inspect the content of `df['arrival_delay_deciles']`"
   ]
  },
  {
   "cell_type": "code",
   "execution_count": 30,
   "metadata": {
    "collapsed": false,
    "deletable": true,
    "editable": true
   },
   "outputs": [
    {
     "data": {
      "text/html": [
       "<div>\n",
       "<style scoped>\n",
       "    .dataframe tbody tr th:only-of-type {\n",
       "        vertical-align: middle;\n",
       "    }\n",
       "\n",
       "    .dataframe tbody tr th {\n",
       "        vertical-align: top;\n",
       "    }\n",
       "\n",
       "    .dataframe thead th {\n",
       "        text-align: right;\n",
       "    }\n",
       "</style>\n",
       "<table border=\"1\" class=\"dataframe\">\n",
       "  <thead>\n",
       "    <tr style=\"text-align: right;\">\n",
       "      <th></th>\n",
       "      <th>departure_delay</th>\n",
       "      <th>num_flights</th>\n",
       "      <th>arrival_delay_deciles</th>\n",
       "    </tr>\n",
       "  </thead>\n",
       "  <tbody>\n",
       "    <tr>\n",
       "      <th>0</th>\n",
       "      <td>-37.0</td>\n",
       "      <td>107</td>\n",
       "      <td>[-66.0, -44.0, -41.0, -35.0, -30.0, -23.0, -17...</td>\n",
       "    </tr>\n",
       "    <tr>\n",
       "      <th>1</th>\n",
       "      <td>-36.0</td>\n",
       "      <td>139</td>\n",
       "      <td>[-74.0, -43.0, -39.0, -37.0, -32.0, -25.0, -18...</td>\n",
       "    </tr>\n",
       "    <tr>\n",
       "      <th>2</th>\n",
       "      <td>-35.0</td>\n",
       "      <td>191</td>\n",
       "      <td>[-68.0, -45.0, -40.0, -36.0, -28.0, -19.0, -14...</td>\n",
       "    </tr>\n",
       "    <tr>\n",
       "      <th>3</th>\n",
       "      <td>-34.0</td>\n",
       "      <td>195</td>\n",
       "      <td>[-58.0, -44.0, -40.0, -35.0, -30.0, -25.0, -19...</td>\n",
       "    </tr>\n",
       "    <tr>\n",
       "      <th>4</th>\n",
       "      <td>-33.0</td>\n",
       "      <td>227</td>\n",
       "      <td>[-59.0, -43.0, -39.0, -36.0, -32.0, -28.0, -20...</td>\n",
       "    </tr>\n",
       "  </tbody>\n",
       "</table>\n",
       "</div>"
      ],
      "text/plain": [
       "   departure_delay  num_flights  \\\n",
       "0            -37.0          107   \n",
       "1            -36.0          139   \n",
       "2            -35.0          191   \n",
       "3            -34.0          195   \n",
       "4            -33.0          227   \n",
       "\n",
       "                               arrival_delay_deciles  \n",
       "0  [-66.0, -44.0, -41.0, -35.0, -30.0, -23.0, -17...  \n",
       "1  [-74.0, -43.0, -39.0, -37.0, -32.0, -25.0, -18...  \n",
       "2  [-68.0, -45.0, -40.0, -36.0, -28.0, -19.0, -14...  \n",
       "3  [-58.0, -44.0, -40.0, -35.0, -30.0, -25.0, -19...  \n",
       "4  [-59.0, -43.0, -39.0, -36.0, -32.0, -28.0, -20...  "
      ]
     },
     "execution_count": 30,
     "metadata": {},
     "output_type": "execute_result"
    }
   ],
   "source": [
    "query=\"\"\"\n",
    "SELECT\n",
    "  departure_delay,\n",
    "  COUNT(1) AS num_flights,\n",
    "  APPROX_QUANTILES(arrival_delay, 10) AS arrival_delay_deciles\n",
    "FROM\n",
    "  `bigquery-samples.airline_ontime_data.flights`\n",
    "GROUP BY\n",
    "  departure_delay\n",
    "HAVING\n",
    "  num_flights > 100\n",
    "ORDER BY\n",
    "  departure_delay ASC\n",
    "\"\"\"\n",
    "\n",
    "\n",
    "df = bq.Query(query).execute().result().to_dataframe()\n",
    "df.head()"
   ]
  },
  {
   "cell_type": "code",
   "execution_count": 31,
   "metadata": {
    "collapsed": false,
    "deletable": true,
    "editable": true
   },
   "outputs": [
    {
     "data": {
      "text/plain": [
       "list"
      ]
     },
     "execution_count": 31,
     "metadata": {},
     "output_type": "execute_result"
    }
   ],
   "source": [
    "type(df['arrival_delay_deciles'][0])"
   ]
  },
  {
   "cell_type": "markdown",
   "metadata": {
    "deletable": true,
    "editable": true
   },
   "source": [
    "## Obtain a new dataframe\n",
    "`df['arrival_delay_deciles']` is a __Pandas Series__ containing a __list__ of values for each row. Apply `pd.Series` to obtain a new Pandas Dataframe"
   ]
  },
  {
   "cell_type": "code",
   "execution_count": 32,
   "metadata": {
    "collapsed": false,
    "deletable": true,
    "editable": true
   },
   "outputs": [
    {
     "data": {
      "text/html": [
       "<div>\n",
       "<style scoped>\n",
       "    .dataframe tbody tr th:only-of-type {\n",
       "        vertical-align: middle;\n",
       "    }\n",
       "\n",
       "    .dataframe tbody tr th {\n",
       "        vertical-align: top;\n",
       "    }\n",
       "\n",
       "    .dataframe thead th {\n",
       "        text-align: right;\n",
       "    }\n",
       "</style>\n",
       "<table border=\"1\" class=\"dataframe\">\n",
       "  <thead>\n",
       "    <tr style=\"text-align: right;\">\n",
       "      <th></th>\n",
       "      <th>0</th>\n",
       "      <th>1</th>\n",
       "      <th>2</th>\n",
       "      <th>3</th>\n",
       "      <th>4</th>\n",
       "      <th>5</th>\n",
       "      <th>6</th>\n",
       "      <th>7</th>\n",
       "      <th>8</th>\n",
       "      <th>9</th>\n",
       "      <th>10</th>\n",
       "    </tr>\n",
       "  </thead>\n",
       "  <tbody>\n",
       "    <tr>\n",
       "      <th>0</th>\n",
       "      <td>-66.0</td>\n",
       "      <td>-44.0</td>\n",
       "      <td>-41.0</td>\n",
       "      <td>-35.0</td>\n",
       "      <td>-30.0</td>\n",
       "      <td>-23.0</td>\n",
       "      <td>-17.0</td>\n",
       "      <td>-12.0</td>\n",
       "      <td>-3.0</td>\n",
       "      <td>6.0</td>\n",
       "      <td>33.0</td>\n",
       "    </tr>\n",
       "    <tr>\n",
       "      <th>1</th>\n",
       "      <td>-74.0</td>\n",
       "      <td>-43.0</td>\n",
       "      <td>-39.0</td>\n",
       "      <td>-37.0</td>\n",
       "      <td>-32.0</td>\n",
       "      <td>-25.0</td>\n",
       "      <td>-18.0</td>\n",
       "      <td>-14.0</td>\n",
       "      <td>-7.0</td>\n",
       "      <td>2.0</td>\n",
       "      <td>49.0</td>\n",
       "    </tr>\n",
       "    <tr>\n",
       "      <th>2</th>\n",
       "      <td>-68.0</td>\n",
       "      <td>-45.0</td>\n",
       "      <td>-40.0</td>\n",
       "      <td>-36.0</td>\n",
       "      <td>-28.0</td>\n",
       "      <td>-19.0</td>\n",
       "      <td>-14.0</td>\n",
       "      <td>-8.0</td>\n",
       "      <td>-4.0</td>\n",
       "      <td>3.0</td>\n",
       "      <td>85.0</td>\n",
       "    </tr>\n",
       "    <tr>\n",
       "      <th>3</th>\n",
       "      <td>-58.0</td>\n",
       "      <td>-44.0</td>\n",
       "      <td>-40.0</td>\n",
       "      <td>-35.0</td>\n",
       "      <td>-30.0</td>\n",
       "      <td>-25.0</td>\n",
       "      <td>-19.0</td>\n",
       "      <td>-14.0</td>\n",
       "      <td>-8.0</td>\n",
       "      <td>2.0</td>\n",
       "      <td>39.0</td>\n",
       "    </tr>\n",
       "    <tr>\n",
       "      <th>4</th>\n",
       "      <td>-59.0</td>\n",
       "      <td>-43.0</td>\n",
       "      <td>-39.0</td>\n",
       "      <td>-36.0</td>\n",
       "      <td>-32.0</td>\n",
       "      <td>-28.0</td>\n",
       "      <td>-20.0</td>\n",
       "      <td>-14.0</td>\n",
       "      <td>-7.0</td>\n",
       "      <td>5.0</td>\n",
       "      <td>25.0</td>\n",
       "    </tr>\n",
       "  </tbody>\n",
       "</table>\n",
       "</div>"
      ],
      "text/plain": [
       "     0     1     2     3     4     5     6     7    8    9     10\n",
       "0 -66.0 -44.0 -41.0 -35.0 -30.0 -23.0 -17.0 -12.0 -3.0  6.0  33.0\n",
       "1 -74.0 -43.0 -39.0 -37.0 -32.0 -25.0 -18.0 -14.0 -7.0  2.0  49.0\n",
       "2 -68.0 -45.0 -40.0 -36.0 -28.0 -19.0 -14.0  -8.0 -4.0  3.0  85.0\n",
       "3 -58.0 -44.0 -40.0 -35.0 -30.0 -25.0 -19.0 -14.0 -8.0  2.0  39.0\n",
       "4 -59.0 -43.0 -39.0 -36.0 -32.0 -28.0 -20.0 -14.0 -7.0  5.0  25.0"
      ]
     },
     "execution_count": 32,
     "metadata": {},
     "output_type": "execute_result"
    }
   ],
   "source": [
    "percentiles = df['arrival_delay_deciles'].apply(pd.Series)\n",
    "percentiles.head()"
   ]
  },
  {
   "cell_type": "markdown",
   "metadata": {
    "deletable": true,
    "editable": true
   },
   "source": [
    "## Plotting\n",
    "1. change the name of the columns to mirror the percentages\n",
    "2. drop minimum and maximum (columns '0%' and '100%')\n",
    "3. plot using 'departure_delay' on x axis"
   ]
  },
  {
   "cell_type": "code",
   "execution_count": 33,
   "metadata": {
    "collapsed": false,
    "deletable": true,
    "editable": true
   },
   "outputs": [
    {
     "data": {
      "text/html": [
       "<div>\n",
       "<style scoped>\n",
       "    .dataframe tbody tr th:only-of-type {\n",
       "        vertical-align: middle;\n",
       "    }\n",
       "\n",
       "    .dataframe tbody tr th {\n",
       "        vertical-align: top;\n",
       "    }\n",
       "\n",
       "    .dataframe thead th {\n",
       "        text-align: right;\n",
       "    }\n",
       "</style>\n",
       "<table border=\"1\" class=\"dataframe\">\n",
       "  <thead>\n",
       "    <tr style=\"text-align: right;\">\n",
       "      <th></th>\n",
       "      <th>departure_delay</th>\n",
       "      <th>0%</th>\n",
       "      <th>10%</th>\n",
       "      <th>20%</th>\n",
       "      <th>30%</th>\n",
       "      <th>40%</th>\n",
       "      <th>50%</th>\n",
       "      <th>60%</th>\n",
       "      <th>70%</th>\n",
       "      <th>80%</th>\n",
       "      <th>90%</th>\n",
       "      <th>100%</th>\n",
       "    </tr>\n",
       "  </thead>\n",
       "  <tbody>\n",
       "    <tr>\n",
       "      <th>0</th>\n",
       "      <td>-37.0</td>\n",
       "      <td>-66.0</td>\n",
       "      <td>-44.0</td>\n",
       "      <td>-41.0</td>\n",
       "      <td>-35.0</td>\n",
       "      <td>-30.0</td>\n",
       "      <td>-23.0</td>\n",
       "      <td>-17.0</td>\n",
       "      <td>-12.0</td>\n",
       "      <td>-3.0</td>\n",
       "      <td>6.0</td>\n",
       "      <td>33.0</td>\n",
       "    </tr>\n",
       "    <tr>\n",
       "      <th>1</th>\n",
       "      <td>-36.0</td>\n",
       "      <td>-74.0</td>\n",
       "      <td>-43.0</td>\n",
       "      <td>-39.0</td>\n",
       "      <td>-37.0</td>\n",
       "      <td>-32.0</td>\n",
       "      <td>-25.0</td>\n",
       "      <td>-18.0</td>\n",
       "      <td>-14.0</td>\n",
       "      <td>-7.0</td>\n",
       "      <td>2.0</td>\n",
       "      <td>49.0</td>\n",
       "    </tr>\n",
       "    <tr>\n",
       "      <th>2</th>\n",
       "      <td>-35.0</td>\n",
       "      <td>-68.0</td>\n",
       "      <td>-45.0</td>\n",
       "      <td>-40.0</td>\n",
       "      <td>-36.0</td>\n",
       "      <td>-28.0</td>\n",
       "      <td>-19.0</td>\n",
       "      <td>-14.0</td>\n",
       "      <td>-8.0</td>\n",
       "      <td>-4.0</td>\n",
       "      <td>3.0</td>\n",
       "      <td>85.0</td>\n",
       "    </tr>\n",
       "    <tr>\n",
       "      <th>3</th>\n",
       "      <td>-34.0</td>\n",
       "      <td>-58.0</td>\n",
       "      <td>-44.0</td>\n",
       "      <td>-40.0</td>\n",
       "      <td>-35.0</td>\n",
       "      <td>-30.0</td>\n",
       "      <td>-25.0</td>\n",
       "      <td>-19.0</td>\n",
       "      <td>-14.0</td>\n",
       "      <td>-8.0</td>\n",
       "      <td>2.0</td>\n",
       "      <td>39.0</td>\n",
       "    </tr>\n",
       "    <tr>\n",
       "      <th>4</th>\n",
       "      <td>-33.0</td>\n",
       "      <td>-59.0</td>\n",
       "      <td>-43.0</td>\n",
       "      <td>-39.0</td>\n",
       "      <td>-36.0</td>\n",
       "      <td>-32.0</td>\n",
       "      <td>-28.0</td>\n",
       "      <td>-20.0</td>\n",
       "      <td>-14.0</td>\n",
       "      <td>-7.0</td>\n",
       "      <td>5.0</td>\n",
       "      <td>25.0</td>\n",
       "    </tr>\n",
       "  </tbody>\n",
       "</table>\n",
       "</div>"
      ],
      "text/plain": [
       "   departure_delay    0%   10%   20%   30%   40%   50%   60%   70%  80%  90%  \\\n",
       "0            -37.0 -66.0 -44.0 -41.0 -35.0 -30.0 -23.0 -17.0 -12.0 -3.0  6.0   \n",
       "1            -36.0 -74.0 -43.0 -39.0 -37.0 -32.0 -25.0 -18.0 -14.0 -7.0  2.0   \n",
       "2            -35.0 -68.0 -45.0 -40.0 -36.0 -28.0 -19.0 -14.0  -8.0 -4.0  3.0   \n",
       "3            -34.0 -58.0 -44.0 -40.0 -35.0 -30.0 -25.0 -19.0 -14.0 -8.0  2.0   \n",
       "4            -33.0 -59.0 -43.0 -39.0 -36.0 -32.0 -28.0 -20.0 -14.0 -7.0  5.0   \n",
       "\n",
       "   100%  \n",
       "0  33.0  \n",
       "1  49.0  \n",
       "2  85.0  \n",
       "3  39.0  \n",
       "4  25.0  "
      ]
     },
     "execution_count": 33,
     "metadata": {},
     "output_type": "execute_result"
    }
   ],
   "source": [
    "percentiles = percentiles.rename(columns = lambda x : str(x*10) + \"%\")\n",
    "percentiles = pd.concat([df['departure_delay'], percentiles], axis=1)\n",
    "percentiles.head()"
   ]
  },
  {
   "cell_type": "code",
   "execution_count": 34,
   "metadata": {
    "collapsed": false,
    "deletable": true,
    "editable": true
   },
   "outputs": [
    {
     "data": {
      "image/png": "[encoded data removed]",
      "text/plain": [
       "<matplotlib.figure.Figure at 0x7f86543e6f50>"
      ]
     },
     "metadata": {},
     "output_type": "display_data"
    }
   ],
   "source": [
    "percentiles = percentiles.drop(['0%', '100%'], 1)\n",
    "percentiles.plot(x='departure_delay', xlim=(-30,50), ylim=(-50,50));"
   ]
  }
 ],
 "metadata": {
  "kernelspec": {
   "display_name": "Python 2",
   "language": "python",
   "name": "python2"
  },
  "language_info": {
   "codemirror_mode": {
    "name": "ipython",
    "version": 2
   },
   "file_extension": ".py",
   "mimetype": "text/x-python",
   "name": "python",
   "nbconvert_exporter": "python",
   "pygments_lexer": "ipython2",
   "version": "2.7.15"
  }
 },
 "nbformat": 4,
 "nbformat_minor": 2
}
