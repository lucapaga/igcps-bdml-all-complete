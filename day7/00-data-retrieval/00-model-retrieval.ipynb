{
 "cells": [
  {
   "cell_type": "markdown",
   "metadata": {
    "deletable": true,
    "editable": true
   },
   "source": [
    "# In case your training did not succeed"
   ]
  },
  {
   "cell_type": "code",
   "execution_count": 2,
   "metadata": {
    "collapsed": true,
    "deletable": true,
    "editable": true
   },
   "outputs": [],
   "source": [
    "import os\n",
    "# use here the name of your own bucket\n",
    "BUCKET = 'telemar-flights'\n",
    "\n",
    "\n",
    "os.environ['BUCKET'] = BUCKET\n",
    "os.environ['REGION'] = 'europe-west1'"
   ]
  },
  {
   "cell_type": "code",
   "execution_count": 6,
   "metadata": {
    "collapsed": false,
    "deletable": true,
    "editable": true
   },
   "outputs": [
    {
     "name": "stdout",
     "output_type": "stream",
     "text": [
      "create bucket gs://telemar-flights and copy data into\n",
      "data copy\n"
     ]
    },
    {
     "name": "stderr",
     "output_type": "stream",
     "text": [
      "Creating gs://telemar-flights/...\n",
      "ServiceException: 409 Bucket telemar-flights already exists.\n",
      "Copying gs://telemar-flights-bkp/flights/chapter9/output/export/Servo/1528278721862/saved_model.pb...\n",
      "Copying gs://telemar-flights-bkp/flights/chapter9/output/export/Servo/1528278721862/variables/variables.data-00000-of-00001...\n",
      "/ [0 files][    0.0 B/728.4 KiB]                                                \r",
      "/ [0/3 files][    0.0 B/953.6 KiB]   0% Done                                    \r",
      "Copying gs://telemar-flights-bkp/flights/chapter9/output/export/Servo/1528278721862/variables/variables.index...\n",
      "/ [0/3 files][    0.0 B/953.6 KiB]   0% Done                                    \r",
      "/ [1/3 files][  1.5 KiB/953.6 KiB]   0% Done                                    \r",
      "/ [2/3 files][729.9 KiB/953.6 KiB]  76% Done                                    \r",
      "/ [3/3 files][953.6 KiB/953.6 KiB] 100% Done                                    \r\n",
      "Operation completed over 3 objects/953.6 KiB.                                    \n"
     ]
    }
   ],
   "source": [
    "%%bash\n",
    "echo \"create bucket gs://$BUCKET and copy data into\"\n",
    "gsutil mb -p $PROJECT_ID -c regional -l $REGION  gs://$BUCKET/ \n",
    "\n",
    "echo \"data copy\"\n",
    "\n",
    "FROM=gs://telemar-flights-bkp/flights/chapter9/output/export/Servo\n",
    "TO=gs://$BUCKET/flights/chapter9/output/export/Servo\n",
    "\n",
    "CMD=\"gsutil -m cp -r $FROM $TO\"\n",
    "\n",
    "$CMD"
   ]
  },
  {
   "cell_type": "code",
   "execution_count": null,
   "metadata": {
    "collapsed": true,
    "deletable": true,
    "editable": true
   },
   "outputs": [],
   "source": []
  }
 ],
 "metadata": {
  "kernelspec": {
   "display_name": "Python 2",
   "language": "python",
   "name": "python2"
  },
  "language_info": {
   "codemirror_mode": {
    "name": "ipython",
    "version": 2
   },
   "file_extension": ".py",
   "mimetype": "text/x-python",
   "name": "python",
   "nbconvert_exporter": "python",
   "pygments_lexer": "ipython2",
   "version": "2.7.15"
  }
 },
 "nbformat": 4,
 "nbformat_minor": 2
}
