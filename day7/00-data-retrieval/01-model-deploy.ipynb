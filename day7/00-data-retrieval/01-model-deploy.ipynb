{
 "cells": [
  {
   "cell_type": "markdown",
   "metadata": {},
   "source": [
    "# Model deployment\n",
    "Following code will deploy your model to MLEngine: check https://console.cloud.google.com/mlengine/models for deployment status."
   ]
  },
  {
   "cell_type": "code",
   "execution_count": 7,
   "metadata": {
    "collapsed": false
   },
   "outputs": [],
   "source": [
    "import os\n",
    "# use here the name of your own bucket\n",
    "BUCKET = 'telemar-flights'\n",
    "TF_VERSION=\"1.8\"\n",
    "\n",
    "os.environ['BUCKET'] = BUCKET\n",
    "os.environ['REGION'] = 'europe-west1'\n",
    "os.environ['TF_VERSION'] = TF_VERSION"
   ]
  },
  {
   "cell_type": "code",
   "execution_count": 9,
   "metadata": {
    "collapsed": false
   },
   "outputs": [
    {
     "name": "stdout",
     "output_type": "stream",
     "text": [
      "Deleting and deploying flights v1 from gs://telemar-flights/flights/chapter9/output/export/Servo/1528278721862/...\n",
      "this will take a few minutes ... \n",
      "the first two calls to delete version/model will throw ERROR if this is the first time you are deploying the model (you can ignore those)\n"
     ]
    },
    {
     "name": "stderr",
     "output_type": "stream",
     "text": [
      "ERROR: (gcloud.ml-engine.versions.delete) NOT_FOUND: Field: name Error: The specified model version was not found.\n",
      "- '@type': type.googleapis.com/google.rpc.BadRequest\n",
      "  fieldViolations:\n",
      "  - description: The specified model version was not found.\n",
      "    field: name\n",
      "Deleting model [flights]...\n",
      "done.\n",
      "Created ml engine model [projects/injenia-ricerca/models/flights].\n",
      "Creating version (this might take a few minutes)......\n",
      "................................................................................................................done.\n"
     ]
    }
   ],
   "source": [
    "%%bash\n",
    "\n",
    "MODEL_NAME=\"flights\"\n",
    "MODEL_VERSION=\"v1\"\n",
    "\n",
    "# result of training\n",
    "MODEL_LOCATION=$(gsutil ls gs://${BUCKET}/flights/chapter9/output/export/Servo/ | tail -1)\n",
    "\n",
    "echo \"Deleting and deploying $MODEL_NAME $MODEL_VERSION from $MODEL_LOCATION...\" \n",
    "\n",
    "gcloud ml-engine versions delete ${MODEL_VERSION} --model ${MODEL_NAME} --quiet\n",
    "gcloud ml-engine models delete ${MODEL_NAME} --quiet\n",
    "gcloud ml-engine models create ${MODEL_NAME} --regions $REGION\n",
    "gcloud ml-engine versions create ${MODEL_VERSION} --model ${MODEL_NAME} --origin ${MODEL_LOCATION} --runtime-version=${TF_VERSION}"
   ]
  },
  {
   "cell_type": "code",
   "execution_count": null,
   "metadata": {
    "collapsed": true
   },
   "outputs": [],
   "source": []
  }
 ],
 "metadata": {
  "kernelspec": {
   "display_name": "Python 2",
   "language": "python",
   "name": "python2"
  },
  "language_info": {
   "codemirror_mode": {
    "name": "ipython",
    "version": 2
   },
   "file_extension": ".py",
   "mimetype": "text/x-python",
   "name": "python",
   "nbconvert_exporter": "python",
   "pygments_lexer": "ipython2",
   "version": "2.7.15"
  }
 },
 "nbformat": 4,
 "nbformat_minor": 2
}
