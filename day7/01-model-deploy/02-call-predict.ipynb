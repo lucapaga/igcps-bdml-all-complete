{
 "cells": [
  {
   "cell_type": "markdown",
   "metadata": {
    "deletable": true,
    "editable": true
   },
   "source": [
    "# Getting predictions"
   ]
  },
  {
   "cell_type": "code",
   "execution_count": 1,
   "metadata": {
    "collapsed": false,
    "deletable": true,
    "editable": true
   },
   "outputs": [
    {
     "name": "stdout",
     "output_type": "stream",
     "text": [
      "[{u'probabilities': [0.8900375366210938, 0.10996246337890625], u'class_ids': [0], u'classes': [u'0'], u'logits': [-2.0911245346069336], u'logistic': [0.10996246337890625]}]\n"
     ]
    }
   ],
   "source": [
    "from googleapiclient import discovery\n",
    "from oauth2client.client import GoogleCredentials\n",
    "\n",
    "credentials = GoogleCredentials.get_application_default()\n",
    "api = discovery.build('ml', 'v1', credentials=credentials,\n",
    "            discoveryServiceUrl='https://storage.googleapis.com/cloud-ml/discovery/ml_v1_discovery.json')\n",
    "\n",
    "request_data = {'instances':\n",
    "  [\n",
    "      {\n",
    "        'dep_delay': 16.0,\n",
    "        'taxiout': 13.0,\n",
    "        'distance': 160.0,\n",
    "        'avg_dep_delay': 13.34,\n",
    "        'avg_arr_delay': 67.0,\n",
    "        'carrier': 'AS',\n",
    "        'dep_lat': 61.17,\n",
    "        'dep_lon': -150.00,\n",
    "        'arr_lat': 60.49,\n",
    "        'arr_lon': -145.48,\n",
    "        'origin': 'ANC',\n",
    "        'dest': 'CDV'\n",
    "      }\n",
    "  ]\n",
    "}\n",
    "\n",
    "PROJECT = 'injenia-ricerca'\n",
    "parent = 'projects/{}/models/{}/versions/{}'.format(PROJECT, 'flights_estimator', 'v1')\n",
    "response = api.projects().predict(body=request_data, name=parent).execute()\n",
    "print(response['predictions'])"
   ]
  },
  {
   "cell_type": "code",
   "execution_count": 2,
   "metadata": {
    "collapsed": false,
    "deletable": true,
    "editable": true
   },
   "outputs": [
    {
     "name": "stdout",
     "output_type": "stream",
     "text": [
      "probabilities: [0.7667959332466125, 0.23320403695106506]\n",
      "classes: [u'0', u'1']\n"
     ]
    }
   ],
   "source": [
    "for resp in response['predictions']:\n",
    "  for k,v in resp.items():\n",
    "    print('{}: {}'.format(k,v))"
   ]
  },
  {
   "cell_type": "markdown",
   "metadata": {
    "deletable": true,
    "editable": true
   },
   "source": [
    "## Response insights\n",
    "We can call the model prediction with a number of instances: first one is the actual data line, the other are derived by substituting one value with it's mean. "
   ]
  },
  {
   "cell_type": "code",
   "execution_count": 2,
   "metadata": {
    "collapsed": true,
    "deletable": true,
    "editable": true
   },
   "outputs": [],
   "source": [
    "request_data = {'instances':\n",
    "  [\n",
    "      {\n",
    "        'dep_delay': dep_delay,\n",
    "        'taxiout': taxiout,\n",
    "        'distance': 160.0,\n",
    "        'avg_dep_delay': 13.34,\n",
    "        'avg_arr_delay': avg_arr_delay,\n",
    "        'carrier': 'AS',\n",
    "        'dep_lat': 61.17,\n",
    "        'dep_lon': -150.00,\n",
    "        'arr_lat': 60.49,\n",
    "        'arr_lon': -145.48,\n",
    "        'origin': 'ANC',\n",
    "        'dest': 'CDV'\n",
    "      }\n",
    "      for dep_delay, taxiout, avg_arr_delay in\n",
    "        [[16.0, 13.0, 67.0],\n",
    "         [13.3, 13.0, 67.0], # if dep_delay was the airport mean\n",
    "         [16.0, 16.0, 67.0], # if taxiout was the global mean\n",
    "         [16.0, 13.0, 4] # if avg_arr_delay was the global mean\n",
    "        ]\n",
    "  ]\n",
    "}\n"
   ]
  },
  {
   "cell_type": "code",
   "execution_count": 3,
   "metadata": {
    "collapsed": false,
    "deletable": true,
    "editable": true
   },
   "outputs": [
    {
     "name": "stdout",
     "output_type": "stream",
     "text": [
      "\n",
      "\n",
      "The ontime probability = 0.11\n",
      "the key reason is that this flight appears rather typical \n"
     ]
    }
   ],
   "source": [
    "response = api.projects().predict(body=request_data, name=parent).execute()\n",
    "\n",
    "probs = [pred[u'probabilities'][1] for pred in response[u'predictions']]\n",
    "\n",
    "# find the maximal impact variable\n",
    "max_impact = 0.3  # unless impact of var > 0.3, we'll go with 'typical'\n",
    "max_impact_factor =  0\n",
    "for factor in xrange(1, len(probs)):\n",
    "   impact = abs(probs[factor] - probs[0])\n",
    "   if impact > max_impact:\n",
    "      max_impact = impact\n",
    "      max_impact_factor = factor\n",
    "\n",
    "reasons = [\"this flight appears rather typical\",\n",
    "           \"the departure delay is typically 13.3 minutes\",\n",
    "           \"the taxiout time is typically 16.0 minutes\",\n",
    "           \"the avg_arrival_delay is typically 4 minutes\"]\n",
    "\n",
    "print \"\\n\\nThe ontime probability = {:4.2}\\nthe key reason is that {} {}\".format(\n",
    "           probs[0],\n",
    "           reasons[max_impact_factor],\n",
    "           \"\\nhad it been typical, the ontime probability would have been {:4.2f}\".format(probs[max_impact_factor]) if max_impact_factor > 0 else \"\"\n",
    "      )"
   ]
  },
  {
   "cell_type": "code",
   "execution_count": null,
   "metadata": {
    "collapsed": true
   },
   "outputs": [],
   "source": [
    "www"
   ]
  }
 ],
 "metadata": {
  "kernelspec": {
   "display_name": "Python 2",
   "language": "python",
   "name": "python2"
  },
  "language_info": {
   "codemirror_mode": {
    "name": "ipython",
    "version": 2
   },
   "file_extension": ".py",
   "mimetype": "text/x-python",
   "name": "python",
   "nbconvert_exporter": "python",
   "pygments_lexer": "ipython2",
   "version": "2.7.15"
  }
 },
 "nbformat": 4,
 "nbformat_minor": 2
}
