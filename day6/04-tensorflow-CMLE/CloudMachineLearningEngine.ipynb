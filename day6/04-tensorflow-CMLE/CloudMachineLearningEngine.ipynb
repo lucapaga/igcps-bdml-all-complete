{
 "cells": [
  {
   "cell_type": "markdown",
   "metadata": {
    "deletable": true,
    "editable": true
   },
   "source": [
    "# Cloud Machine Learning Engine"
   ]
  },
  {
   "cell_type": "code",
   "execution_count": 1,
   "metadata": {
    "collapsed": true,
    "deletable": true,
    "editable": true
   },
   "outputs": [],
   "source": []
  },
  {
   "cell_type": "code",
   "execution_count": 1,
   "metadata": {
    "collapsed": true,
    "deletable": true,
    "editable": true
   },
   "outputs": [],
   "source": [
    "import os\n",
    "# use here the name of your own bucket\n",
    "BUCKET = 'telemar-flights'\n",
    "\n",
    "\n",
    "os.environ['BUCKET'] = BUCKET\n",
    "os.environ['REGION'] = 'europe-west1'"
   ]
  },
  {
   "cell_type": "markdown",
   "metadata": {
    "deletable": true,
    "editable": true
   },
   "source": [
    "## Authorize CMLE\n",
    "Cloud Machine Learning Engine needs to have access to train and test csv files."
   ]
  },
  {
   "cell_type": "code",
   "execution_count": 2,
   "metadata": {
    "collapsed": false,
    "deletable": true,
    "editable": true
   },
   "outputs": [
    {
     "name": "stdout",
     "output_type": "stream",
     "text": [
      "Authorizing the Cloud ML Service account cloud-ml-service@injenia-ricerca-48dd4.iam.gserviceaccount.com to access files in telemar-flights\n"
     ]
    },
    {
     "name": "stderr",
     "output_type": "stream",
     "text": [
      "  % Total    % Received % Xferd  Average Speed   Time    Time     Time  Current\n",
      "                                 Dload  Upload   Total   Spent    Left  Speed\n",
      "\r",
      "  0     0    0     0    0     0      0      0 --:--:-- --:--:-- --:--:--     0\r",
      "100   229    0   229    0     0    233      0 --:--:-- --:--:-- --:--:--   233\r",
      "100   229    0   229    0     0    233      0 --:--:-- --:--:-- --:--:--   233\n",
      "No changes to gs://telemar-flights/\n",
      "No changes to gs://telemar-flights/flights/chapter8/output/testFlights-00000-of-00007.csv\n",
      "No changes to gs://telemar-flights/flights/chapter8/output/testFlights-00001-of-00007.csv\n",
      "No changes to gs://telemar-flights/flights/chapter8/output/testFlights-00002-of-00007.csv\n",
      "No changes to gs://telemar-flights/flights/chapter8/output/testFlights-00003-of-00007.csv\n",
      "No changes to gs://telemar-flights/flights/chapter8/output/testFlights-00004-of-00007.csv\n",
      "No changes to gs://telemar-flights/flights/chapter8/output/testFlights-00005-of-00007.csv\n",
      "No changes to gs://telemar-flights/flights/chapter8/output/testFlights-00006-of-00007.csv\n",
      "No changes to gs://telemar-flights/flights/chapter8/output/trainFlights-00000-of-00007.csv\n",
      "No changes to gs://telemar-flights/flights/chapter8/output/trainFlights-00001-of-00007.csv\n",
      "No changes to gs://telemar-flights/flights/chapter8/output/trainFlights-00002-of-00007.csv\n",
      "No changes to gs://telemar-flights/flights/chapter8/output/trainFlights-00003-of-00007.csv\n",
      "No changes to gs://telemar-flights/flights/chapter8/output/trainFlights-00004-of-00007.csv\n",
      "No changes to gs://telemar-flights/flights/chapter8/output/trainFlights-00005-of-00007.csv\n",
      "No changes to gs://telemar-flights/flights/chapter8/output/trainFlights-00006-of-00007.csv\n",
      "No changes to gs://telemar-flights/\n"
     ]
    }
   ],
   "source": [
    "%%bash\n",
    "PROJECT_ID=$(gcloud config get-value core/project)\n",
    "\n",
    "AUTH_TOKEN=$(gcloud auth print-access-token)\n",
    "SVC_ACCOUNT=$(curl -X GET -H \"Content-Type: application/json\" \\\n",
    "    -H \"Authorization: Bearer $AUTH_TOKEN\" \\\n",
    "    https://ml.googleapis.com/v1/projects/${PROJECT_ID}:getConfig \\\n",
    "    | python -c \"import json; import sys; response = json.load(sys.stdin); \\\n",
    "    print response['serviceAccount']\")\n",
    "\n",
    "echo \"Authorizing the Cloud ML Service account $SVC_ACCOUNT to access files in $BUCKET\"\n",
    "gsutil -m defacl ch -u $SVC_ACCOUNT:R gs://$BUCKET\n",
    "gsutil -m acl ch -u $SVC_ACCOUNT:R -r gs://$BUCKET  # error message (if bucket is empty) can be ignored\n",
    "gsutil -m acl ch -u $SVC_ACCOUNT:W gs://$BUCKET"
   ]
  },
  {
   "cell_type": "markdown",
   "metadata": {
    "deletable": true,
    "editable": true
   },
   "source": [
    "## Run a full training session on datalab\n",
    "Code below launches a training job on Google Cloud CMLE. \n",
    "Note that:\n",
    "- python package is contained in sub-folder flights: you can browse source cod using datalab;\n",
    "- JOBNAME environmental variable is created starting from current date and time: check and find relevant lines of code;\n",
    "- OUTPUT_DIR points to a specific folder in your bucket: it will contain training informations. \n"
   ]
  },
  {
   "cell_type": "code",
   "execution_count": 7,
   "metadata": {
    "collapsed": false,
    "deletable": true,
    "editable": true
   },
   "outputs": [
    {
     "name": "stdout",
     "output_type": "stream",
     "text": [
      "Launching training job ... trained model will be in gs://telemar-flights/flights/chapter9/output\n",
      "jobId: flights_180611_085939\n",
      "state: QUEUED\n"
     ]
    },
    {
     "name": "stderr",
     "output_type": "stream",
     "text": [
      "Removing gs://telemar-flights/flights/chapter9/output/#1528278708751410...\n",
      "Removing gs://telemar-flights/flights/chapter9/output/checkpoint#1528278711261406...\n",
      "Removing gs://telemar-flights/flights/chapter9/output/eval/#1528273757205120...\n",
      "Removing gs://telemar-flights/flights/chapter9/output/eval/events.out.tfevents.1528273757.cmle-training-master-112f22993c-0-cftwj#1528278556796826...\n",
      "Removing gs://telemar-flights/flights/chapter9/output/eval/events.out.tfevents.1528278719.cmle-training-master-112f22993c-0-cftwj#1528278720416855...\n",
      "/ [1/39 objects]   2% Done                                                      \r",
      "Removing gs://telemar-flights/flights/chapter9/output/events.out.tfevents.1528273711.cmle-training-master-112f22993c-0-cftwj#1528278712880264...\n",
      "Removing gs://telemar-flights/flights/chapter9/output/export/#1528278725019621...\n",
      "/ [2/39 objects]   5% Done                                                      \r",
      "/ [3/39 objects]   7% Done                                                      \r",
      "Removing gs://telemar-flights/flights/chapter9/output/export/Servo/#1528278725153885...\n",
      "Removing gs://telemar-flights/flights/chapter9/output/export/Servo/1528278721862/#1528278725287989...\n",
      "/ [4/39 objects]  10% Done                                                      \r",
      "/ [5/39 objects]  12% Done                                                      \r",
      "Removing gs://telemar-flights/flights/chapter9/output/export/Servo/1528278721862/saved_model.pb#1528278728866564...\n",
      "Removing gs://telemar-flights/flights/chapter9/output/export/Servo/1528278721862/variables/#1528278727531261...\n",
      "/ [6/39 objects]  15% Done                                                      \r",
      "Removing gs://telemar-flights/flights/chapter9/output/export/Servo/1528278721862/variables/variables.data-00000-of-00001#1528278727873927...\n",
      "/ [7/39 objects]  17% Done                                                      \r",
      "/ [8/39 objects]  20% Done                                                      \r",
      "Removing gs://telemar-flights/flights/chapter9/output/export/Servo/1528278721862/variables/variables.index#1528278728057766...\n",
      "/ [9/39 objects]  23% Done                                                      \r",
      "Removing gs://telemar-flights/flights/chapter9/output/graph.pbtxt#1528273743072142...\n",
      "/ [10/39 objects]  25% Done                                                     \r",
      "Removing gs://telemar-flights/flights/chapter9/output/model.ckpt-1927664.data-00000-of-00003#1528276747846564...\n",
      "/ [11/39 objects]  28% Done                                                     \r",
      "Removing gs://telemar-flights/flights/chapter9/output/model.ckpt-1927664.data-00001-of-00003#1528276747634047...\n",
      "/ [12/39 objects]  30% Done                                                     \r",
      "/ [13/39 objects]  33% Done                                                     \r",
      "/ [14/39 objects]  35% Done                                                     \r",
      "Removing gs://telemar-flights/flights/chapter9/output/model.ckpt-1927664.data-00002-of-00003#1528276747397995...\n",
      "Removing gs://telemar-flights/flights/chapter9/output/model.ckpt-1927664.index#1528276748052053...\n",
      "Removing gs://telemar-flights/flights/chapter9/output/model.ckpt-1927664.meta#1528276749996250...\n",
      "Removing gs://telemar-flights/flights/chapter9/output/model.ckpt-2009699.data-00000-of-00003#1528277348040401...\n",
      "/ [15/39 objects]  38% Done                                                     \r",
      "Removing gs://telemar-flights/flights/chapter9/output/model.ckpt-2009699.data-00001-of-00003#1528277347774242...\n",
      "/ [16/39 objects]  41% Done                                                     \r",
      "Removing gs://telemar-flights/flights/chapter9/output/model.ckpt-2009699.data-00002-of-00003#1528277347574827...\n",
      "/ [17/39 objects]  43% Done                                                     \r",
      "/ [18/39 objects]  46% Done                                                     \r",
      "/ [19/39 objects]  48% Done                                                     \r",
      "/ [20/39 objects]  51% Done                                                     \r",
      "Removing gs://telemar-flights/flights/chapter9/output/model.ckpt-2009699.index#1528277348431929...\n",
      "Removing gs://telemar-flights/flights/chapter9/output/model.ckpt-2009699.meta#1528277350567725...\n",
      "Removing gs://telemar-flights/flights/chapter9/output/model.ckpt-2091767.data-00000-of-00003#1528277947981625...\n",
      "Removing gs://telemar-flights/flights/chapter9/output/model.ckpt-2091767.data-00001-of-00003#1528277947770464...\n",
      "/ [21/39 objects]  53% Done                                                     \r",
      "/ [22/39 objects]  56% Done                                                     \r",
      "/ [23/39 objects]  58% Done                                                     \r",
      "Removing gs://telemar-flights/flights/chapter9/output/model.ckpt-2091767.data-00002-of-00003#1528277947506626...\n",
      "/ [24/39 objects]  61% Done                                                     \r",
      "/ [25/39 objects]  64% Done                                                     \r",
      "Removing gs://telemar-flights/flights/chapter9/output/model.ckpt-2091767.index#1528277948189160...\n",
      "Removing gs://telemar-flights/flights/chapter9/output/model.ckpt-2091767.meta#1528277950146986...\n",
      "Removing gs://telemar-flights/flights/chapter9/output/model.ckpt-2174265.data-00000-of-00003#1528278547916447...\n",
      "Removing gs://telemar-flights/flights/chapter9/output/model.ckpt-2174265.data-00001-of-00003#1528278547702856...\n",
      "/ [26/39 objects]  66% Done                                                     \r",
      "Removing gs://telemar-flights/flights/chapter9/output/model.ckpt-2174265.index#1528278548090999...\n",
      "/ [27/39 objects]  69% Done                                                     \r",
      "/ [28/39 objects]  71% Done                                                     \r",
      "/ [29/39 objects]  74% Done                                                     \r",
      "Removing gs://telemar-flights/flights/chapter9/output/model.ckpt-2174265.meta#1528278550327557...\n",
      "Removing gs://telemar-flights/flights/chapter9/output/model.ckpt-2174265.data-00002-of-00003#1528278547495764...\n",
      "Removing gs://telemar-flights/flights/chapter9/output/model.ckpt-2195381.data-00000-of-00003#1528278709925932...\n",
      "/ [30/39 objects]  76% Done                                                     \r",
      "/ [31/39 objects]  79% Done                                                     \r",
      "Removing gs://telemar-flights/flights/chapter9/output/model.ckpt-2195381.data-00001-of-00003#1528278709712698...\n",
      "Removing gs://telemar-flights/flights/chapter9/output/model.ckpt-2195381.data-00002-of-00003#1528278709478559...\n",
      "Removing gs://telemar-flights/flights/chapter9/output/model.ckpt-2195381.index#1528278710114269...\n",
      "/ [32/39 objects]  82% Done                                                     \r",
      "/ [33/39 objects]  84% Done                                                     \r",
      "/ [34/39 objects]  87% Done                                                     \r",
      "/ [35/39 objects]  89% Done                                                     \r",
      "/ [36/39 objects]  92% Done                                                     \r",
      "Removing gs://telemar-flights/flights/chapter9/output/model.ckpt-2195381.meta#1528278712197169...\n",
      "/ [37/39 objects]  94% Done                                                     \r",
      "/ [38/39 objects]  97% Done                                                     \r",
      "/ [39/39 objects] 100% Done                                                     \r\n",
      "Operation completed over 39 objects.                                             \n",
      "Job [flights_180611_085939] submitted successfully.\n",
      "Your job is still active. You may view the status of your job with the command\n",
      "\n",
      "  $ gcloud ml-engine jobs describe flights_180611_085939\n",
      "\n",
      "or continue streaming the logs with the command\n",
      "\n",
      "  $ gcloud ml-engine jobs stream-logs flights_180611_085939\n"
     ]
    }
   ],
   "source": [
    "%%bash\n",
    "\n",
    "OUTPUT_DIR=gs://${BUCKET}/flights/chapter9/output\n",
    "DATA_DIR=gs://${BUCKET}/flights/chapter8/output\n",
    "JOBNAME=flights_$(date -u +%y%m%d_%H%M%S)\n",
    "\n",
    "PATTERN=\"Flights*\"\n",
    "\n",
    "echo \"Launching training job ... trained model will be in $OUTPUT_DIR\"\n",
    "\n",
    "gsutil -m rm -rf $OUTPUT_DIR\n",
    "gcloud ml-engine jobs submit training $JOBNAME \\\n",
    "  --region=$REGION \\\n",
    "  --module-name=trainer.task \\\n",
    "  --package-path=$(pwd)/flights/trainer \\\n",
    "  --job-dir=$OUTPUT_DIR \\\n",
    "  --staging-bucket=gs://$BUCKET \\\n",
    "  --runtime-version=\"1.4\" \\\n",
    "  --scale-tier=STANDARD_1 \\\n",
    "  -- \\\n",
    "   --output_dir=$OUTPUT_DIR \\\n",
    "   --traindata $DATA_DIR/train$PATTERN \\\n",
    "   --evaldata $DATA_DIR/test$PATTERN   \\\n",
    "   --num_training_epochs=5"
   ]
  },
  {
   "cell_type": "markdown",
   "metadata": {
    "deletable": true,
    "editable": true
   },
   "source": [
    "## Control CMLE log status\n",
    "Browse to [https://console.cloud.google.com/mlengine](https://console.cloud.google.com/mlengine) and select your job"
   ]
  },
  {
   "cell_type": "markdown",
   "metadata": {
    "deletable": true,
    "editable": true
   },
   "source": [
    "## Launch TensorBoard: visualize graph and metrics\n",
    "We can keep track of the behavior of accuracy (on test set) and ()"
   ]
  },
  {
   "cell_type": "code",
   "execution_count": 17,
   "metadata": {
    "collapsed": false,
    "deletable": true,
    "editable": true
   },
   "outputs": [
    {
     "data": {
      "text/html": [
       "<p>TensorBoard was started successfully with pid 5781. Click <a href=\"/_proxy/43707/\" target=\"_blank\">here</a> to access it.</p>"
      ]
     },
     "metadata": {},
     "output_type": "display_data"
    },
    {
     "data": {
      "text/html": [
       "<div>\n",
       "<style scoped>\n",
       "    .dataframe tbody tr th:only-of-type {\n",
       "        vertical-align: middle;\n",
       "    }\n",
       "\n",
       "    .dataframe tbody tr th {\n",
       "        vertical-align: top;\n",
       "    }\n",
       "\n",
       "    .dataframe thead th {\n",
       "        text-align: right;\n",
       "    }\n",
       "</style>\n",
       "<table border=\"1\" class=\"dataframe\">\n",
       "  <thead>\n",
       "    <tr style=\"text-align: right;\">\n",
       "      <th></th>\n",
       "      <th>logdir</th>\n",
       "      <th>pid</th>\n",
       "      <th>port</th>\n",
       "    </tr>\n",
       "  </thead>\n",
       "  <tbody>\n",
       "    <tr>\n",
       "      <th>0</th>\n",
       "      <td>gs://telemar-flights/flights/chapter9/output</td>\n",
       "      <td>5781</td>\n",
       "      <td>43707</td>\n",
       "    </tr>\n",
       "  </tbody>\n",
       "</table>\n",
       "</div>"
      ],
      "text/plain": [
       "                                         logdir   pid   port\n",
       "0  gs://telemar-flights/flights/chapter9/output  5781  43707"
      ]
     },
     "execution_count": 17,
     "metadata": {},
     "output_type": "execute_result"
    }
   ],
   "source": [
    "from google.datalab.ml import TensorBoard\n",
    "TensorBoard().start('gs://'+BUCKET+'/flights/chapter9/output')\n",
    "TensorBoard().list()"
   ]
  },
  {
   "cell_type": "code",
   "execution_count": 18,
   "metadata": {
    "collapsed": false,
    "deletable": true,
    "editable": true
   },
   "outputs": [
    {
     "name": "stdout",
     "output_type": "stream",
     "text": [
      "Stopped TensorBoard with pid 5781\n"
     ]
    }
   ],
   "source": [
    "# to stop TensorBoard\n",
    "for pid in TensorBoard.list()['pid']:\n",
    "    TensorBoard().stop(pid)\n",
    "    print 'Stopped TensorBoard with pid {}'.format(pid)"
   ]
  }
 ],
 "metadata": {
  "kernelspec": {
   "display_name": "Python 2",
   "language": "python",
   "name": "python2"
  },
  "language_info": {
   "codemirror_mode": {
    "name": "ipython",
    "version": 2
   },
   "file_extension": ".py",
   "mimetype": "text/x-python",
   "name": "python",
   "nbconvert_exporter": "python",
   "pygments_lexer": "ipython2",
   "version": "2.7.15"
  }
 },
 "nbformat": 4,
 "nbformat_minor": 2
}
