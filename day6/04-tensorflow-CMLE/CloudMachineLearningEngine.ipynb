{
 "cells": [
  {
   "cell_type": "markdown",
   "metadata": {
    "deletable": true,
    "editable": true
   },
   "source": [
    "# Cloud Machine Learning Engine"
   ]
  },
  {
   "cell_type": "code",
   "execution_count": 6,
   "metadata": {
    "collapsed": true,
    "deletable": true,
    "editable": true
   },
   "outputs": [],
   "source": [
    "import os\n",
    "# use here the name of your own bucket\n",
    "BUCKET = 'telemar-formazione-master-day6'\n",
    "\n",
    "os.environ['BUCKET'] = BUCKET\n",
    "os.environ['REGION'] = 'europe-west1'"
   ]
  },
  {
   "cell_type": "markdown",
   "metadata": {
    "deletable": true,
    "editable": true
   },
   "source": [
    "## Authorize CMLE\n",
    "Cloud Machine Learning Engine needs to have access to train and test csv files."
   ]
  },
  {
   "cell_type": "code",
   "execution_count": 2,
   "metadata": {
    "collapsed": false,
    "deletable": true,
    "editable": true
   },
   "outputs": [
    {
     "name": "stdout",
     "output_type": "stream",
     "text": [
      "Authorizing the Cloud ML Service account service-723822676475@cloud-ml.google.com.iam.gserviceaccount.com to access files in telemar-formazione-master-day6\n"
     ]
    },
    {
     "name": "stderr",
     "output_type": "stream",
     "text": [
      "  % Total    % Received % Xferd  Average Speed   Time    Time     Time  Current\n",
      "                                 Dload  Upload   Total   Spent    Left  Speed\n",
      "\r",
      "  0     0    0     0    0     0      0      0 --:--:-- --:--:-- --:--:--     0\r",
      "  0     0    0     0    0     0      0      0 --:--:-- --:--:-- --:--:--     0\r",
      "100   237    0   237    0     0    190      0 --:--:--  0:00:01 --:--:--   190\n",
      "Updated default ACL on gs://telemar-formazione-master-day6/\n",
      "Updated ACL on gs://telemar-formazione-master-day6/flights/chapter8/output/testFlights-00001-of-00007.csv\n",
      "Updated ACL on gs://telemar-formazione-master-day6/flights/chapter8/keys/origin.txt\n",
      "Updated ACL on gs://telemar-formazione-master-day6/flights/chapter8/output/testFlights-00000-of-00007.csv\n",
      "Updated ACL on gs://telemar-formazione-master-day6/flights/airports/airports.csv.gz\n",
      "Updated ACL on gs://telemar-formazione-master-day6/flights/chapter8/keys/dest.txt\n",
      "Updated ACL on gs://telemar-formazione-master-day6/flights/chapter8/output/testFlights-00004-of-00007.csv\n",
      "Updated ACL on gs://telemar-formazione-master-day6/flights/chapter8/output/testFlights-00002-of-00007.csv\n",
      "Updated ACL on gs://telemar-formazione-master-day6/flights/chapter8/output/testFlights-00003-of-00007.csv\n",
      "Updated ACL on gs://telemar-formazione-master-day6/flights/chapter8/output/testFlights-00005-of-00007.csv\n",
      "Updated ACL on gs://telemar-formazione-master-day6/flights/chapter8/output/testFlights-00006-of-00007.csv\n",
      "Updated ACL on gs://telemar-formazione-master-day6/flights/chapter8/output/trainFlights-00001-of-00007.csv\n",
      "Updated ACL on gs://telemar-formazione-master-day6/flights/chapter8/output/trainFlights-00003-of-00007.csv\n",
      "Updated ACL on gs://telemar-formazione-master-day6/flights/chapter8/output/trainFlights-00000-of-00007.csv\n",
      "Updated ACL on gs://telemar-formazione-master-day6/flights/chapter8/output/trainFlights-00004-of-00007.csv\n",
      "Updated ACL on gs://telemar-formazione-master-day6/flights/chapter8/output/trainFlights-00002-of-00007.csv\n",
      "Updated ACL on gs://telemar-formazione-master-day6/flights/chapter8/output/trainFlights-00005-of-00007.csv\n",
      "Updated ACL on gs://telemar-formazione-master-day6/flights/tzcorr/all_flights-00000-of-00036\n",
      "Updated ACL on gs://telemar-formazione-master-day6/flights/chapter8/output/trainFlights-00006-of-00007.csv\n",
      "Updated ACL on gs://telemar-formazione-master-day6/flights/tzcorr/all_flights-00001-of-00036\n",
      "Updated ACL on gs://telemar-formazione-master-day6/flights/tzcorr/all_flights-00002-of-00036\n",
      "Updated ACL on gs://telemar-formazione-master-day6/flights/tzcorr/all_flights-00005-of-00036\n",
      "Updated ACL on gs://telemar-formazione-master-day6/flights/tzcorr/all_flights-00003-of-00036\n",
      "Updated ACL on gs://telemar-formazione-master-day6/flights/tzcorr/all_flights-00004-of-00036\n",
      "Updated ACL on gs://telemar-formazione-master-day6/flights/tzcorr/all_flights-00006-of-00036\n",
      "Updated ACL on gs://telemar-formazione-master-day6/flights/tzcorr/all_flights-00007-of-00036\n",
      "Updated ACL on gs://telemar-formazione-master-day6/flights/tzcorr/all_flights-00008-of-00036\n",
      "Updated ACL on gs://telemar-formazione-master-day6/flights/tzcorr/all_flights-00009-of-00036\n",
      "Updated ACL on gs://telemar-formazione-master-day6/flights/tzcorr/all_flights-00010-of-00036\n",
      "Updated ACL on gs://telemar-formazione-master-day6/flights/tzcorr/all_flights-00011-of-00036\n",
      "Updated ACL on gs://telemar-formazione-master-day6/flights/tzcorr/all_flights-00012-of-00036\n",
      "Updated ACL on gs://telemar-formazione-master-day6/flights/tzcorr/all_flights-00014-of-00036\n",
      "Updated ACL on gs://telemar-formazione-master-day6/flights/tzcorr/all_flights-00013-of-00036\n",
      "Updated ACL on gs://telemar-formazione-master-day6/flights/tzcorr/all_flights-00015-of-00036\n",
      "Updated ACL on gs://telemar-formazione-master-day6/flights/tzcorr/all_flights-00016-of-00036\n",
      "Updated ACL on gs://telemar-formazione-master-day6/flights/tzcorr/all_flights-00019-of-00036\n",
      "Updated ACL on gs://telemar-formazione-master-day6/flights/tzcorr/all_flights-00017-of-00036\n",
      "Updated ACL on gs://telemar-formazione-master-day6/flights/tzcorr/all_flights-00018-of-00036\n",
      "Updated ACL on gs://telemar-formazione-master-day6/flights/tzcorr/all_flights-00023-of-00036\n",
      "Updated ACL on gs://telemar-formazione-master-day6/flights/tzcorr/all_flights-00020-of-00036\n",
      "Updated ACL on gs://telemar-formazione-master-day6/flights/tzcorr/all_flights-00024-of-00036\n",
      "Updated ACL on gs://telemar-formazione-master-day6/flights/tzcorr/all_flights-00022-of-00036\n",
      "Updated ACL on gs://telemar-formazione-master-day6/flights/tzcorr/all_flights-00021-of-00036\n",
      "Updated ACL on gs://telemar-formazione-master-day6/flights/tzcorr/all_flights-00025-of-00036\n",
      "Updated ACL on gs://telemar-formazione-master-day6/flights/tzcorr/all_flights-00026-of-00036\n",
      "Updated ACL on gs://telemar-formazione-master-day6/flights/tzcorr/all_flights-00028-of-00036\n",
      "Updated ACL on gs://telemar-formazione-master-day6/flights/tzcorr/all_flights-00027-of-00036\n",
      "Updated ACL on gs://telemar-formazione-master-day6/flights/tzcorr/all_flights-00029-of-00036\n",
      "Updated ACL on gs://telemar-formazione-master-day6/flights/tzcorr/all_flights-00031-of-00036\n",
      "Updated ACL on gs://telemar-formazione-master-day6/flights/tzcorr/all_flights-00030-of-00036\n",
      "Updated ACL on gs://telemar-formazione-master-day6/flights/tzcorr/all_flights-00032-of-00036\n",
      "Updated ACL on gs://telemar-formazione-master-day6/flights/tzcorr/all_flights-00033-of-00036\n",
      "Updated ACL on gs://telemar-formazione-master-day6/flights/tzcorr/all_flights-00035-of-00036\n",
      "Updated ACL on gs://telemar-formazione-master-day6/flights/tzcorr/all_flights-00034-of-00036\n",
      "Updated ACL on gs://telemar-formazione-master-day6/\n"
     ]
    }
   ],
   "source": [
    "%%bash\n",
    "PROJECT_ID=$(gcloud config get-value core/project)\n",
    "\n",
    "AUTH_TOKEN=$(gcloud auth print-access-token)\n",
    "SVC_ACCOUNT=$(curl -X GET -H \"Content-Type: application/json\" \\\n",
    "    -H \"Authorization: Bearer $AUTH_TOKEN\" \\\n",
    "    https://ml.googleapis.com/v1/projects/${PROJECT_ID}:getConfig \\\n",
    "    | python -c \"import json; import sys; response = json.load(sys.stdin); \\\n",
    "    print response['serviceAccount']\")\n",
    "\n",
    "echo \"Authorizing the Cloud ML Service account $SVC_ACCOUNT to access files in $BUCKET\"\n",
    "gsutil -m defacl ch -u $SVC_ACCOUNT:R gs://$BUCKET\n",
    "gsutil -m acl ch -u $SVC_ACCOUNT:R -r gs://$BUCKET  # error message (if bucket is empty) can be ignored\n",
    "gsutil -m acl ch -u $SVC_ACCOUNT:W gs://$BUCKET"
   ]
  },
  {
   "cell_type": "markdown",
   "metadata": {
    "deletable": true,
    "editable": true
   },
   "source": [
    "## Run a full training session on datalab\n",
    "Code below launches a training job on Google Cloud CMLE. \n",
    "Note that:\n",
    "- python package is contained in sub-folder flights: you can browse source cod using datalab;\n",
    "- JOBNAME environmental variable is created starting from current date and time: check and find relevant lines of code;\n",
    "- OUTPUT_DIR points to a specific folder in your bucket: it will contain training informations. \n"
   ]
  },
  {
   "cell_type": "code",
   "execution_count": 3,
   "metadata": {
    "collapsed": false,
    "deletable": true,
    "editable": true
   },
   "outputs": [
    {
     "name": "stdout",
     "output_type": "stream",
     "text": [
      "Launching training job ... trained model will be in gs://telemar-formazione-master-day6/flights/chapter9/output\n",
      "jobId: flights_180717_110157\n",
      "state: QUEUED\n"
     ]
    },
    {
     "name": "stderr",
     "output_type": "stream",
     "text": [
      "CommandException: 1 files/objects could not be removed.\n",
      "Job [flights_180717_110157] submitted successfully.\n",
      "Your job is still active. You may view the status of your job with the command\n",
      "\n",
      "  $ gcloud ml-engine jobs describe flights_180717_110157\n",
      "\n",
      "or continue streaming the logs with the command\n",
      "\n",
      "  $ gcloud ml-engine jobs stream-logs flights_180717_110157\n"
     ]
    }
   ],
   "source": [
    "%%bash\n",
    "\n",
    "OUTPUT_DIR=gs://${BUCKET}/flights/chapter9/output\n",
    "DATA_DIR=gs://${BUCKET}/flights/chapter8/output\n",
    "ORIGIN_FILE=gs://${BUCKET}/flights/chapter8/keys/origin.txt\n",
    "DEST_FILE=gs://${BUCKET}/flights/chapter8/keys/dest.txt\n",
    "JOBNAME=flights_$(date -u +%y%m%d_%H%M%S)\n",
    "\n",
    "PATTERN=\"Flights*\"\n",
    "\n",
    "echo \"Launching training job ... trained model will be in $OUTPUT_DIR\"\n",
    "\n",
    "gsutil -m rm -rf $OUTPUT_DIR\n",
    "gcloud ml-engine jobs submit training $JOBNAME \\\n",
    "  --region=$REGION \\\n",
    "  --module-name=trainer.task \\\n",
    "  --package-path=$(pwd)/flights/trainer \\\n",
    "  --job-dir=$OUTPUT_DIR \\\n",
    "  --staging-bucket=gs://$BUCKET \\\n",
    "  --runtime-version=\"1.6\" \\\n",
    "  --scale-tier=STANDARD_1 \\\n",
    "  -- \\\n",
    "   --output_dir=$OUTPUT_DIR \\\n",
    "   --traindata $DATA_DIR/train$PATTERN \\\n",
    "   --evaldata $DATA_DIR/test$PATTERN   \\\n",
    "   --origin_file $ORIGIN_FILE          \\\n",
    "   --dest_file $DEST_FILE              \\\n",
    "   --num_training_epochs=5"
   ]
  },
  {
   "cell_type": "markdown",
   "metadata": {
    "deletable": true,
    "editable": true
   },
   "source": [
    "## Control CMLE log status\n",
    "Browse to [https://console.cloud.google.com/mlengine](https://console.cloud.google.com/mlengine) and select your job"
   ]
  },
  {
   "cell_type": "markdown",
   "metadata": {
    "deletable": true,
    "editable": true
   },
   "source": [
    "## Launch TensorBoard: visualize graph and metrics\n",
    "We can keep track of the behavior of accuracy (on test set) and ()"
   ]
  },
  {
   "cell_type": "code",
   "execution_count": 7,
   "metadata": {
    "collapsed": false,
    "deletable": true,
    "editable": true
   },
   "outputs": [
    {
     "data": {
      "text/html": [
       "<p>TensorBoard was started successfully with pid 26694. Click <a href=\"/_proxy/42597/\" target=\"_blank\">here</a> to access it.</p>"
      ]
     },
     "metadata": {},
     "output_type": "display_data"
    },
    {
     "data": {
      "text/html": [
       "<div>\n",
       "<style scoped>\n",
       "    .dataframe tbody tr th:only-of-type {\n",
       "        vertical-align: middle;\n",
       "    }\n",
       "\n",
       "    .dataframe tbody tr th {\n",
       "        vertical-align: top;\n",
       "    }\n",
       "\n",
       "    .dataframe thead th {\n",
       "        text-align: right;\n",
       "    }\n",
       "</style>\n",
       "<table border=\"1\" class=\"dataframe\">\n",
       "  <thead>\n",
       "    <tr style=\"text-align: right;\">\n",
       "      <th></th>\n",
       "      <th>logdir</th>\n",
       "      <th>pid</th>\n",
       "      <th>port</th>\n",
       "    </tr>\n",
       "  </thead>\n",
       "  <tbody>\n",
       "    <tr>\n",
       "      <th>0</th>\n",
       "      <td>gs://telemar-formazione-master-day6/flights/ch...</td>\n",
       "      <td>23527</td>\n",
       "      <td>33609</td>\n",
       "    </tr>\n",
       "    <tr>\n",
       "      <th>1</th>\n",
       "      <td>gs://telemar-formazione-master-day6/flights/ch...</td>\n",
       "      <td>26650</td>\n",
       "      <td>44063</td>\n",
       "    </tr>\n",
       "    <tr>\n",
       "      <th>2</th>\n",
       "      <td>gs://telemar-formazione-master-day6/flights/ch...</td>\n",
       "      <td>26694</td>\n",
       "      <td>42597</td>\n",
       "    </tr>\n",
       "  </tbody>\n",
       "</table>\n",
       "</div>"
      ],
      "text/plain": [
       "                                              logdir    pid   port\n",
       "0  gs://telemar-formazione-master-day6/flights/ch...  23527  33609\n",
       "1  gs://telemar-formazione-master-day6/flights/ch...  26650  44063\n",
       "2  gs://telemar-formazione-master-day6/flights/ch...  26694  42597"
      ]
     },
     "execution_count": 7,
     "metadata": {},
     "output_type": "execute_result"
    }
   ],
   "source": [
    "from google.datalab.ml import TensorBoard\n",
    "TensorBoard().start('gs://'+BUCKET+'/flights/chapter9/output')\n",
    "TensorBoard().list()"
   ]
  },
  {
   "cell_type": "code",
   "execution_count": 4,
   "metadata": {
    "collapsed": false,
    "deletable": true,
    "editable": true
   },
   "outputs": [
    {
     "name": "stdout",
     "output_type": "stream",
     "text": [
      "Stopped TensorBoard with pid 427\n"
     ]
    }
   ],
   "source": [
    "# to stop TensorBoard\n",
    "for pid in TensorBoard.list()['pid']:\n",
    "    TensorBoard().stop(pid)\n",
    "    print 'Stopped TensorBoard with pid {}'.format(pid)"
   ]
  },
  {
   "cell_type": "code",
   "execution_count": null,
   "metadata": {
    "collapsed": true,
    "deletable": true,
    "editable": true
   },
   "outputs": [],
   "source": []
  }
 ],
 "metadata": {
  "kernelspec": {
   "display_name": "Python 2",
   "language": "python",
   "name": "python2"
  },
  "language_info": {
   "codemirror_mode": {
    "name": "ipython",
    "version": 2
   },
   "file_extension": ".py",
   "mimetype": "text/x-python",
   "name": "python",
   "nbconvert_exporter": "python",
   "pygments_lexer": "ipython2",
   "version": "2.7.15"
  }
 },
 "nbformat": 4,
 "nbformat_minor": 2
}
