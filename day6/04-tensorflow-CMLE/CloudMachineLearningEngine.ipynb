{
 "cells": [
  {
   "cell_type": "markdown",
   "metadata": {
    "deletable": true,
    "editable": true
   },
   "source": [
    "# Cloud Machine Learning Engine"
   ]
  },
  {
   "cell_type": "code",
   "execution_count": 10,
   "metadata": {
    "collapsed": true,
    "deletable": true,
    "editable": true
   },
   "outputs": [],
   "source": [
    "import os\n",
    "# use here the name of your own bucket\n",
    "BUCKET = 'telemar-flights'\n",
    "\n",
    "os.environ['BUCKET'] = BUCKET\n",
    "os.environ['REGION'] = 'europe-west1'"
   ]
  },
  {
   "cell_type": "markdown",
   "metadata": {
    "deletable": true,
    "editable": true
   },
   "source": [
    "## Authorize CMLE\n",
    "Cloud Machine Learning Engine needs to have access to train and test csv files."
   ]
  },
  {
   "cell_type": "code",
   "execution_count": 11,
   "metadata": {
    "collapsed": false,
    "deletable": true,
    "editable": true
   },
   "outputs": [
    {
     "name": "stdout",
     "output_type": "stream",
     "text": [
      "Authorizing the Cloud ML Service account cloud-ml-service@injenia-ricerca-48dd4.iam.gserviceaccount.com to access files in telemar-flights\n"
     ]
    },
    {
     "name": "stderr",
     "output_type": "stream",
     "text": [
      "  % Total    % Received % Xferd  Average Speed   Time    Time     Time  Current\n",
      "                                 Dload  Upload   Total   Spent    Left  Speed\n",
      "\r",
      "  0     0    0     0    0     0      0      0 --:--:-- --:--:-- --:--:--     0\r",
      "100   229    0   229    0     0    234      0 --:--:-- --:--:-- --:--:--   233\r",
      "100   229    0   229    0     0    233      0 --:--:-- --:--:-- --:--:--   233\n",
      "No changes to gs://telemar-flights/\n",
      "No changes to gs://telemar-flights/flights/airports/airports.csv.gz\n",
      "No changes to gs://telemar-flights/flights/chapter8/keys/carrier.txt\n",
      "No changes to gs://telemar-flights/flights/chapter8/keys/dest.txt\n",
      "No changes to gs://telemar-flights/flights/chapter8/keys/origin.txt\n",
      "No changes to gs://telemar-flights/flights/chapter8/output/testFlights-00000-of-00007.csv\n",
      "No changes to gs://telemar-flights/flights/chapter8/output/testFlights-00001-of-00007.csv\n",
      "No changes to gs://telemar-flights/flights/chapter8/output/testFlights-00002-of-00007.csv\n",
      "No changes to gs://telemar-flights/flights/chapter8/output/testFlights-00003-of-00007.csv\n",
      "No changes to gs://telemar-flights/flights/chapter8/output/testFlights-00004-of-00007.csv\n",
      "No changes to gs://telemar-flights/flights/chapter8/output/testFlights-00005-of-00007.csv\n",
      "No changes to gs://telemar-flights/flights/chapter8/output/testFlights-00006-of-00007.csv\n",
      "No changes to gs://telemar-flights/flights/chapter8/output/trainFlights-00000-of-00007.csv\n",
      "No changes to gs://telemar-flights/flights/chapter8/output/trainFlights-00001-of-00007.csv\n",
      "No changes to gs://telemar-flights/flights/chapter8/output/trainFlights-00002-of-00007.csv\n",
      "No changes to gs://telemar-flights/flights/chapter8/output/trainFlights-00003-of-00007.csv\n",
      "No changes to gs://telemar-flights/flights/chapter8/output/trainFlights-00004-of-00007.csv\n",
      "No changes to gs://telemar-flights/flights/chapter8/output/trainFlights-00005-of-00007.csv\n",
      "No changes to gs://telemar-flights/flights/chapter8/output/trainFlights-00006-of-00007.csv\n",
      "No changes to gs://telemar-flights/flights/chapter9/output_estimator/\n",
      "No changes to gs://telemar-flights/flights/chapter9/output_estimator/checkpoint\n",
      "No changes to gs://telemar-flights/flights/chapter9/output_estimator/eval/\n",
      "No changes to gs://telemar-flights/flights/chapter9/output_estimator/eval/events.out.tfevents.1529326166.d33bca76e4a3\n",
      "No changes to gs://telemar-flights/flights/chapter9/output_estimator/events.out.tfevents.1529326144.d33bca76e4a3\n",
      "No changes to gs://telemar-flights/flights/chapter9/output_estimator/graph.pbtxt\n",
      "No changes to gs://telemar-flights/flights/chapter9/output_estimator/model.ckpt-6.data-00000-of-00001\n",
      "No changes to gs://telemar-flights/flights/chapter9/output_estimator/model.ckpt-6.index\n",
      "No changes to gs://telemar-flights/flights/chapter9/output_estimator/model.ckpt-6.meta\n",
      "No changes to gs://telemar-flights/flights/chapter9/output_estimator/model.ckpt-7.data-00000-of-00001\n",
      "No changes to gs://telemar-flights/flights/chapter9/output_estimator/model.ckpt-7.index\n",
      "No changes to gs://telemar-flights/flights/chapter9/output_estimator/model.ckpt-7.meta\n",
      "No changes to gs://telemar-flights/flights/chapter9/output_estimator/model.ckpt-8.data-00000-of-00001\n",
      "No changes to gs://telemar-flights/flights/chapter9/output_estimator/model.ckpt-8.index\n",
      "No changes to gs://telemar-flights/flights/chapter9/output_estimator/model.ckpt-8.meta\n",
      "No changes to gs://telemar-flights/flights/tzcorr/all_flights-00000-of-00036\n",
      "No changes to gs://telemar-flights/flights/tzcorr/all_flights-00001-of-00036\n",
      "No changes to gs://telemar-flights/flights/tzcorr/all_flights-00002-of-00036\n",
      "No changes to gs://telemar-flights/flights/tzcorr/all_flights-00003-of-00036\n",
      "No changes to gs://telemar-flights/flights/tzcorr/all_flights-00004-of-00036\n",
      "No changes to gs://telemar-flights/flights/tzcorr/all_flights-00005-of-00036\n",
      "No changes to gs://telemar-flights/flights/tzcorr/all_flights-00006-of-00036\n",
      "No changes to gs://telemar-flights/flights/tzcorr/all_flights-00007-of-00036\n",
      "No changes to gs://telemar-flights/flights/tzcorr/all_flights-00008-of-00036\n",
      "No changes to gs://telemar-flights/flights/tzcorr/all_flights-00009-of-00036\n",
      "No changes to gs://telemar-flights/flights/tzcorr/all_flights-00010-of-00036\n",
      "No changes to gs://telemar-flights/flights/tzcorr/all_flights-00011-of-00036\n",
      "No changes to gs://telemar-flights/flights/tzcorr/all_flights-00012-of-00036\n",
      "No changes to gs://telemar-flights/flights/tzcorr/all_flights-00013-of-00036\n",
      "Updated ACL on gs://telemar-flights/flights/chapter9/\n",
      "No changes to gs://telemar-flights/flights/tzcorr/all_flights-00014-of-00036\n",
      "No changes to gs://telemar-flights/flights/tzcorr/all_flights-00015-of-00036\n",
      "No changes to gs://telemar-flights/flights/tzcorr/all_flights-00016-of-00036\n",
      "No changes to gs://telemar-flights/flights/tzcorr/all_flights-00017-of-00036\n",
      "No changes to gs://telemar-flights/flights/tzcorr/all_flights-00018-of-00036\n",
      "No changes to gs://telemar-flights/flights/tzcorr/all_flights-00019-of-00036\n",
      "No changes to gs://telemar-flights/flights/tzcorr/all_flights-00020-of-00036\n",
      "No changes to gs://telemar-flights/flights/tzcorr/all_flights-00021-of-00036\n",
      "No changes to gs://telemar-flights/flights/tzcorr/all_flights-00022-of-00036\n",
      "No changes to gs://telemar-flights/flights/tzcorr/all_flights-00023-of-00036\n",
      "No changes to gs://telemar-flights/flights/tzcorr/all_flights-00024-of-00036\n",
      "No changes to gs://telemar-flights/flights/tzcorr/all_flights-00025-of-00036\n",
      "No changes to gs://telemar-flights/flights/tzcorr/all_flights-00026-of-00036\n",
      "No changes to gs://telemar-flights/flights/tzcorr/all_flights-00027-of-00036\n",
      "No changes to gs://telemar-flights/flights/tzcorr/all_flights-00028-of-00036\n",
      "No changes to gs://telemar-flights/flights/tzcorr/all_flights-00029-of-00036\n",
      "No changes to gs://telemar-flights/flights/tzcorr/all_flights-00030-of-00036\n",
      "No changes to gs://telemar-flights/flights/tzcorr/all_flights-00031-of-00036\n",
      "No changes to gs://telemar-flights/flights/tzcorr/all_flights-00032-of-00036\n",
      "No changes to gs://telemar-flights/flights/tzcorr/all_flights-00033-of-00036\n",
      "No changes to gs://telemar-flights/flights/tzcorr/all_flights-00034-of-00036\n",
      "No changes to gs://telemar-flights/flights/tzcorr/all_flights-00035-of-00036\n",
      "No changes to gs://telemar-flights/flights_180618_130636/2ac632dcbc14777660a9763184f4545d1ace6a265242ecba0dee03bfd70d105c/flights-0.1.tar.gz\n",
      "No changes to gs://telemar-flights/flights_180618_131348/f13b0aec2727b61b270d645a2622719bbb79121db946779eed0abb9f0b1c3ad6/flights-0.1.tar.gz\n",
      "No changes to gs://telemar-flights/flights_180618_132811/21a8105a1567a72bcdf7318d27d2d59f5fd894ca1fad92c310bdcec099f8c956/flights-0.1.tar.gz\n",
      "No changes to gs://telemar-flights/flights_180618_133559/1dcf66e207af0f5b1fe77ba244f3b7dd469edb0ca98fa801a7e844ecad2d965f/flights-0.1.tar.gz\n",
      "No changes to gs://telemar-flights/flights_180618_133922/ca7741357b0680e718130a632c2f5f918eba3d243bdb461231b27925a7ee4304/flights-0.1.tar.gz\n",
      "No changes to gs://telemar-flights/flights_180618_134832/f9b3866ae2eb1c8f56c15b91d80e5aa5cdaae256ba17c88992f6494bf60b9747/flights-0.1.tar.gz\n",
      "No changes to gs://telemar-flights/flights_180618_140258/a44f74ad5a59e323fcbc806aefd469bfcd19fbf4f92e8c8bae39f97fe682dbb6/flights-0.1.tar.gz\n",
      "No changes to gs://telemar-flights/flights_180618_140839/647a0ac9c17a2ced8f8ffffdbd9a1f02b9a6f9643c8cb30f959312df5cec13e3/flights-0.1.tar.gz\n",
      "No changes to gs://telemar-flights/\n"
     ]
    }
   ],
   "source": [
    "%%bash\n",
    "PROJECT_ID=$(gcloud config get-value core/project)\n",
    "\n",
    "AUTH_TOKEN=$(gcloud auth print-access-token)\n",
    "SVC_ACCOUNT=$(curl -X GET -H \"Content-Type: application/json\" \\\n",
    "    -H \"Authorization: Bearer $AUTH_TOKEN\" \\\n",
    "    https://ml.googleapis.com/v1/projects/${PROJECT_ID}:getConfig \\\n",
    "    | python -c \"import json; import sys; response = json.load(sys.stdin); \\\n",
    "    print response['serviceAccount']\")\n",
    "\n",
    "echo \"Authorizing the Cloud ML Service account $SVC_ACCOUNT to access files in $BUCKET\"\n",
    "gsutil -m defacl ch -u $SVC_ACCOUNT:R gs://$BUCKET\n",
    "gsutil -m acl ch -u $SVC_ACCOUNT:R -r gs://$BUCKET  # error message (if bucket is empty) can be ignored\n",
    "gsutil -m acl ch -u $SVC_ACCOUNT:W gs://$BUCKET"
   ]
  },
  {
   "cell_type": "markdown",
   "metadata": {
    "deletable": true,
    "editable": true
   },
   "source": [
    "## Run a full training session on datalab\n",
    "Code below launches a training job on Google Cloud CMLE. \n",
    "Note that:\n",
    "- python package is contained in sub-folder flights: you can browse source cod using datalab;\n",
    "- JOBNAME environmental variable is created starting from current date and time: check and find relevant lines of code;\n",
    "- OUTPUT_DIR points to a specific folder in your bucket: it will contain training informations. \n"
   ]
  },
  {
   "cell_type": "code",
   "execution_count": 12,
   "metadata": {
    "collapsed": false,
    "deletable": true,
    "editable": true
   },
   "outputs": [
    {
     "name": "stdout",
     "output_type": "stream",
     "text": [
      "Launching training job ... trained model will be in gs://telemar-flights/flights/chapter9/output\n",
      "jobId: flights_180618_141519\n",
      "state: QUEUED\n"
     ]
    },
    {
     "name": "stderr",
     "output_type": "stream",
     "text": [
      "CommandException: 1 files/objects could not be removed.\n",
      "Job [flights_180618_141519] submitted successfully.\n",
      "Your job is still active. You may view the status of your job with the command\n",
      "\n",
      "  $ gcloud ml-engine jobs describe flights_180618_141519\n",
      "\n",
      "or continue streaming the logs with the command\n",
      "\n",
      "  $ gcloud ml-engine jobs stream-logs flights_180618_141519\n"
     ]
    }
   ],
   "source": [
    "%%bash\n",
    "\n",
    "OUTPUT_DIR=gs://${BUCKET}/flights/chapter9/output\n",
    "DATA_DIR=gs://${BUCKET}/flights/chapter8/output\n",
    "ORIGIN_FILE=gs://${BUCKET}/flights/chapter8/keys/origin.txt\n",
    "DEST_FILE=gs://${BUCKET}/flights/chapter8/keys/dest.txt\n",
    "JOBNAME=flights_$(date -u +%y%m%d_%H%M%S)\n",
    "\n",
    "PATTERN=\"Flights*\"\n",
    "\n",
    "echo \"Launching training job ... trained model will be in $OUTPUT_DIR\"\n",
    "\n",
    "gsutil -m rm -rf $OUTPUT_DIR\n",
    "gcloud ml-engine jobs submit training $JOBNAME \\\n",
    "  --region=$REGION \\\n",
    "  --module-name=trainer.task \\\n",
    "  --package-path=$(pwd)/flights/trainer \\\n",
    "  --job-dir=$OUTPUT_DIR \\\n",
    "  --staging-bucket=gs://$BUCKET \\\n",
    "  --runtime-version=\"1.6\" \\\n",
    "  --scale-tier=STANDARD_1 \\\n",
    "  -- \\\n",
    "   --output_dir=$OUTPUT_DIR \\\n",
    "   --traindata $DATA_DIR/train$PATTERN \\\n",
    "   --evaldata $DATA_DIR/test$PATTERN   \\\n",
    "   --origin_file $ORIGIN_FILE          \\\n",
    "   --dest_file $DEST_FILE              \\\n",
    "   --num_training_epochs=5"
   ]
  },
  {
   "cell_type": "markdown",
   "metadata": {
    "deletable": true,
    "editable": true
   },
   "source": [
    "## Control CMLE log status\n",
    "Browse to [https://console.cloud.google.com/mlengine](https://console.cloud.google.com/mlengine) and select your job"
   ]
  },
  {
   "cell_type": "markdown",
   "metadata": {
    "deletable": true,
    "editable": true
   },
   "source": [
    "## Launch TensorBoard: visualize graph and metrics\n",
    "We can keep track of the behavior of accuracy (on test set) and ()"
   ]
  },
  {
   "cell_type": "code",
   "execution_count": 13,
   "metadata": {
    "collapsed": false,
    "deletable": true,
    "editable": true
   },
   "outputs": [
    {
     "data": {
      "text/html": [
       "<p>TensorBoard was started successfully with pid 8846. Click <a href=\"/_proxy/51663/\" target=\"_blank\">here</a> to access it.</p>"
      ]
     },
     "metadata": {},
     "output_type": "display_data"
    },
    {
     "data": {
      "text/html": [
       "<div>\n",
       "<style scoped>\n",
       "    .dataframe tbody tr th:only-of-type {\n",
       "        vertical-align: middle;\n",
       "    }\n",
       "\n",
       "    .dataframe tbody tr th {\n",
       "        vertical-align: top;\n",
       "    }\n",
       "\n",
       "    .dataframe thead th {\n",
       "        text-align: right;\n",
       "    }\n",
       "</style>\n",
       "<table border=\"1\" class=\"dataframe\">\n",
       "  <thead>\n",
       "    <tr style=\"text-align: right;\">\n",
       "      <th></th>\n",
       "      <th>logdir</th>\n",
       "      <th>pid</th>\n",
       "      <th>port</th>\n",
       "    </tr>\n",
       "  </thead>\n",
       "  <tbody>\n",
       "    <tr>\n",
       "      <th>0</th>\n",
       "      <td>gs://telemar-flights/flights/chapter9/output</td>\n",
       "      <td>8846</td>\n",
       "      <td>51663</td>\n",
       "    </tr>\n",
       "  </tbody>\n",
       "</table>\n",
       "</div>"
      ],
      "text/plain": [
       "                                         logdir   pid   port\n",
       "0  gs://telemar-flights/flights/chapter9/output  8846  51663"
      ]
     },
     "execution_count": 13,
     "metadata": {},
     "output_type": "execute_result"
    }
   ],
   "source": [
    "from google.datalab.ml import TensorBoard\n",
    "TensorBoard().start('gs://'+BUCKET+'/flights/chapter9/output')\n",
    "TensorBoard().list()"
   ]
  },
  {
   "cell_type": "code",
   "execution_count": null,
   "metadata": {
    "collapsed": false,
    "deletable": true,
    "editable": true
   },
   "outputs": [],
   "source": [
    "# to stop TensorBoard\n",
    "for pid in TensorBoard.list()['pid']:\n",
    "    TensorBoard().stop(pid)\n",
    "    print 'Stopped TensorBoard with pid {}'.format(pid)"
   ]
  },
  {
   "cell_type": "code",
   "execution_count": null,
   "metadata": {
    "collapsed": true
   },
   "outputs": [],
   "source": []
  }
 ],
 "metadata": {
  "kernelspec": {
   "display_name": "Python 2",
   "language": "python",
   "name": "python2"
  },
  "language_info": {
   "codemirror_mode": {
    "name": "ipython",
    "version": 2
   },
   "file_extension": ".py",
   "mimetype": "text/x-python",
   "name": "python",
   "nbconvert_exporter": "python",
   "pygments_lexer": "ipython2",
   "version": "2.7.15"
  }
 },
 "nbformat": 4,
 "nbformat_minor": 2
}
