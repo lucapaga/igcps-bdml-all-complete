{
 "cells": [
  {
   "cell_type": "code",
   "execution_count": 1,
   "metadata": {
    "collapsed": false,
    "deletable": true,
    "editable": true
   },
   "outputs": [],
   "source": [
    "import google.datalab.bigquery as bq\n",
    "import pandas as pd\n",
    "import os"
   ]
  },
  {
   "cell_type": "code",
   "execution_count": 2,
   "metadata": {
    "collapsed": false,
    "deletable": true,
    "editable": true
   },
   "outputs": [],
   "source": [
    "def get_keys(colname):\n",
    "  BQ_DATASET = 'telemar_flights'\n",
    "\n",
    "  query=\"\"\"\n",
    "  SELECT DISTINCT\n",
    "    {}\n",
    "  FROM\n",
    "    `{}.tzcorr`\n",
    "  \"\"\"\n",
    "\n",
    "  df = bq.Query(query.format(colname,BQ_DATASET)).execute().result().to_dataframe()\n",
    "  return df[df.columns[0]].tolist()"
   ]
  },
  {
   "cell_type": "markdown",
   "metadata": {
    "deletable": true,
    "editable": true
   },
   "source": [
    "## Check whether we get the list of carriers"
   ]
  },
  {
   "cell_type": "code",
   "execution_count": 3,
   "metadata": {
    "collapsed": false,
    "deletable": true,
    "editable": true
   },
   "outputs": [
    {
     "name": "stdout",
     "output_type": "stream",
     "text": [
      "['OO', 'B6', 'HA', 'WN', 'AS', 'NK', 'EV', 'DL', 'F9', 'AA', 'UA', 'US', 'MQ', 'VX']\n"
     ]
    }
   ],
   "source": [
    "print(get_keys('unique_carrier'))"
   ]
  },
  {
   "cell_type": "code",
   "execution_count": 4,
   "metadata": {
    "collapsed": false,
    "deletable": true,
    "editable": true
   },
   "outputs": [
    {
     "name": "stderr",
     "output_type": "stream",
     "text": [
      "/usr/local/envs/py2env/lib/python2.7/site-packages/h5py/__init__.py:36: FutureWarning: Conversion of the second argument of issubdtype from `float` to `np.floating` is deprecated. In future, it will be treated as `np.float64 == np.dtype(float).type`.\n",
      "  from ._conv import register_converters as _register_converters\n"
     ]
    }
   ],
   "source": [
    "from tensorflow.python.lib.io import file_io\n",
    "\n",
    "def open_file(uri, mode=\"r\" ,*args, **kwargs):\n",
    "    if uri.startswith(\"gs://\"):\n",
    "        return file_io.FileIO(uri, mode=mode)\n",
    "    else:\n",
    "        return open(uri, mode, *args, **kwargs)"
   ]
  },
  {
   "cell_type": "markdown",
   "metadata": {
    "deletable": true,
    "editable": true
   },
   "source": [
    "## Create keyfile for 'origin'\n",
    "Use above functions to save a text file containing unique 'origin' keys, one per line."
   ]
  },
  {
   "cell_type": "code",
   "execution_count": 5,
   "metadata": {
    "collapsed": false,
    "deletable": true,
    "editable": true
   },
   "outputs": [],
   "source": [
    "BUCKET='telemar-flights'\n",
    "DEST=os.path.join('gs://'+BUCKET,'flights/chapter8/keys')"
   ]
  },
  {
   "cell_type": "code",
   "execution_count": 6,
   "metadata": {
    "collapsed": false,
    "deletable": true,
    "editable": true
   },
   "outputs": [],
   "source": [
    "# HANDS ON: insert your solution here\n",
    "COLUMN='origin'\n",
    "keys = '\\n'.join(get_keys(COLUMN))\n",
    "with open_file(os.path.join(DEST,COLUMN+'.txt'),'w') as f:\n",
    "  f.write(keys)"
   ]
  },
  {
   "cell_type": "markdown",
   "metadata": {
    "deletable": true,
    "editable": true
   },
   "source": [
    "## Create keyfile for 'dest'\n",
    "Use above functions to save a text file containing unique 'dest' keys, one per line."
   ]
  },
  {
   "cell_type": "code",
   "execution_count": 7,
   "metadata": {
    "collapsed": true,
    "deletable": true,
    "editable": true
   },
   "outputs": [],
   "source": [
    "# HANDS ON: insert your solution here\n",
    "COLUMN='dest'\n",
    "keys = '\\n'.join(get_keys(COLUMN))\n",
    "with open_file(os.path.join(DEST,COLUMN+'.txt'),'w') as f:\n",
    "  f.write(keys)"
   ]
  }
 ],
 "metadata": {
  "kernelspec": {
   "display_name": "Python 2",
   "language": "python",
   "name": "python2"
  },
  "language_info": {
   "codemirror_mode": {
    "name": "ipython",
    "version": 2
   },
   "file_extension": ".py",
   "mimetype": "text/x-python",
   "name": "python",
   "nbconvert_exporter": "python",
   "pygments_lexer": "ipython2",
   "version": "2.7.15"
  }
 },
 "nbformat": 4,
 "nbformat_minor": 2
}
