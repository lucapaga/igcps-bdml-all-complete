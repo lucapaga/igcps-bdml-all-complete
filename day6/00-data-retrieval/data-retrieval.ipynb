{
 "cells": [
  {
   "cell_type": "markdown",
   "metadata": {
    "deletable": true,
    "editable": true
   },
   "source": [
    "# Collect all relevant files\n",
    "\n",
    "This notebook aims at recovering all the files needed for today's notebooks.  \n",
    "Fill BUCKET variable with th ename of your bucket and check if REGION is the one you need."
   ]
  },
  {
   "cell_type": "code",
   "execution_count": 4,
   "metadata": {
    "collapsed": true,
    "deletable": true,
    "editable": true
   },
   "outputs": [],
   "source": [
    "import os\n",
    "# use here the name of your own bucket\n",
    "BUCKET = 'telemar-flights'\n",
    "\n",
    "\n",
    "os.environ['BUCKET'] = BUCKET\n",
    "os.environ['REGION'] = 'europe-west1'"
   ]
  },
  {
   "cell_type": "code",
   "execution_count": 5,
   "metadata": {
    "collapsed": false,
    "deletable": true,
    "editable": true
   },
   "outputs": [
    {
     "name": "stdout",
     "output_type": "stream",
     "text": [
      "create bucket gs://telemar-flights and copy data into\n",
      "data copy\n"
     ]
    },
    {
     "name": "stderr",
     "output_type": "stream",
     "text": [
      "Creating gs://telemar-flights/...\n",
      "Copying gs://data-science-on-gcp/flights/chapter8/output/testFlights-00000-of-00007.csv [Content-Type=text/plain]...\n",
      "/ [0 files][    0.0 B/  2.6 MiB]                                                \r",
      "Copying gs://data-science-on-gcp/flights/chapter8/output/testFlights-00001-of-00007.csv [Content-Type=text/plain]...\n",
      "/ [0 files][    0.0 B/  3.3 MiB]                                                \r",
      "Copying gs://data-science-on-gcp/flights/chapter8/output/testFlights-00002-of-00007.csv [Content-Type=text/plain]...\n",
      "/ [0 files][    0.0 B/  4.0 MiB]                                                \r",
      "Copying gs://data-science-on-gcp/flights/chapter8/output/testFlights-00003-of-00007.csv [Content-Type=text/plain]...\n",
      "/ [0 files][    0.0 B/ 61.9 MiB]                                                \r",
      "Copying gs://data-science-on-gcp/flights/chapter8/output/testFlights-00004-of-00007.csv [Content-Type=text/plain]...\n",
      "/ [0 files][    0.0 B/ 69.5 MiB]                                                \r",
      "Copying gs://data-science-on-gcp/flights/chapter8/output/testFlights-00005-of-00007.csv [Content-Type=text/plain]...\n",
      "-\r",
      "- [1 files][  2.6 MiB/ 69.5 MiB]                                                \r",
      "- [1 files][  2.6 MiB/112.8 MiB]                                                \r",
      "Copying gs://data-science-on-gcp/flights/chapter8/output/testFlights-00006-of-00007.csv [Content-Type=text/plain]...\n",
      "- [2 files][  3.3 MiB/112.8 MiB]                                                \r",
      "- [2 files][  3.3 MiB/166.9 MiB]                                                \r",
      "Copying gs://data-science-on-gcp/flights/chapter8/output/trainFlights-00000-of-00007.csv [Content-Type=text/plain]...\n",
      "- [3 files][  4.0 MiB/166.9 MiB]                                                \r",
      "- [3 files][  4.0 MiB/185.8 MiB]                                                \r",
      "Copying gs://data-science-on-gcp/flights/chapter8/output/trainFlights-00001-of-00007.csv [Content-Type=text/plain]...\n",
      "\\\r",
      "\\ [4 files][ 11.6 MiB/185.8 MiB]                                                \r",
      "\\ [4 files][ 11.6 MiB/294.2 MiB]                                                \r",
      "Copying gs://data-science-on-gcp/flights/chapter8/output/trainFlights-00002-of-00007.csv [Content-Type=text/plain]...\n",
      "|\r",
      "| [5/14 files][ 30.4 MiB/583.9 MiB]   5% Done                                   \r",
      "| [5/14 files][ 30.4 MiB/583.9 MiB]   5% Done                                   \r",
      "Copying gs://data-science-on-gcp/flights/chapter8/output/trainFlights-00003-of-00007.csv [Content-Type=text/plain]...\n",
      "| [6/14 files][ 73.8 MiB/583.9 MiB]  12% Done                                   \r",
      "| [6/14 files][ 73.8 MiB/583.9 MiB]  12% Done                                   \r",
      "Copying gs://data-science-on-gcp/flights/chapter8/output/trainFlights-00004-of-00007.csv [Content-Type=text/plain]...\n",
      "Copying gs://data-science-on-gcp/flights/chapter8/output/trainFlights-00005-of-00007.csv [Content-Type=text/plain]...\n",
      "| [7/14 files][127.9 MiB/583.9 MiB]  21% Done                                   \r",
      "| [8/14 files][185.8 MiB/583.9 MiB]  31% Done                                   \r",
      "| [8/14 files][185.8 MiB/583.9 MiB]  31% Done                                   \r",
      "| [8/14 files][185.8 MiB/583.9 MiB]  31% Done                                   \r",
      "Copying gs://data-science-on-gcp/flights/chapter8/output/trainFlights-00006-of-00007.csv [Content-Type=text/plain]...\n",
      "/\r",
      "/ [9/14 files][187.6 MiB/583.9 MiB]  32% Done                                   \r",
      "/ [9/14 files][187.6 MiB/583.9 MiB]  32% Done                                   \r",
      "/ [10/14 files][189.4 MiB/583.9 MiB]  32% Done                                  \r",
      "/ [11/14 files][195.8 MiB/583.9 MiB]  33% Done                                  \r",
      "/ [11/14 files][330.9 MiB/583.9 MiB]  56% Done                                  \r",
      "-\r",
      "- [12/14 files][330.9 MiB/583.9 MiB]  56% Done                                  \r",
      "\\\r",
      "\\ [13/14 files][439.3 MiB/583.9 MiB]  75% Done                                  \r",
      "\\ [13/14 files][583.9 MiB/583.9 MiB]  99% Done                                  \r",
      "|\r",
      "| [14/14 files][583.9 MiB/583.9 MiB] 100% Done                                  \r\n",
      "Operation completed over 14 objects/583.9 MiB.                                   \n"
     ]
    }
   ],
   "source": [
    "%%bash\n",
    "echo \"create bucket gs://$BUCKET and copy data into\"\n",
    "gsutil mb -p $PROJECT_ID -c regional -l $REGION  gs://$BUCKET/ \n",
    "\n",
    "echo \"data copy\"\n",
    "\n",
    "FROM=gs://data-science-on-gcp/flights/chapter8/output\n",
    "TO=gs://$BUCKET/flights/chapter8/output\n",
    "\n",
    "CMD=\"gsutil -m cp \"\n",
    "for SHARD in `seq -w 0 6`; do\n",
    "  CMD=\"$CMD ${FROM}/testFlights-0000${SHARD}-of-00007.csv\"\n",
    "done\n",
    "for SHARD in `seq -w 0 6`; do\n",
    "  CMD=\"$CMD ${FROM}/trainFlights-0000${SHARD}-of-00007.csv\"\n",
    "done\n",
    "CMD=\"$CMD $TO\"\n",
    "\n",
    "$CMD"
   ]
  },
  {
   "cell_type": "code",
   "execution_count": null,
   "metadata": {
    "collapsed": true
   },
   "outputs": [],
   "source": []
  }
 ],
 "metadata": {
  "kernelspec": {
   "display_name": "Python 2",
   "language": "python",
   "name": "python2"
  },
  "language_info": {
   "codemirror_mode": {
    "name": "ipython",
    "version": 2
   },
   "file_extension": ".py",
   "mimetype": "text/x-python",
   "name": "python",
   "nbconvert_exporter": "python",
   "pygments_lexer": "ipython2",
   "version": "2.7.15"
  }
 },
 "nbformat": 4,
 "nbformat_minor": 2
}
